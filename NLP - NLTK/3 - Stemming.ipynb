{
 "cells": [
  {
   "cell_type": "markdown",
   "id": "48c6ebf5",
   "metadata": {},
   "source": [
    "## Stemming"
   ]
  },
  {
   "cell_type": "markdown",
   "id": "21f6c3c3",
   "metadata": {},
   "source": [
    "Stemming bir önişleme tekniğidir. Bir kelimenin kökünü almaya stemming denir. Türkçe sondan eklemeli bir dil olduğu için özellikle Türkçe metinlerde kullanılması faydalıdır.\n"
   ]
  },
  {
   "cell_type": "code",
   "execution_count": 1,
   "id": "5673022d",
   "metadata": {},
   "outputs": [],
   "source": [
    "from nltk.stem import PorterStemmer"
   ]
  },
  {
   "cell_type": "code",
   "execution_count": 2,
   "id": "5ffc2bb1",
   "metadata": {},
   "outputs": [],
   "source": [
    "ps = PorterStemmer()"
   ]
  },
  {
   "cell_type": "code",
   "execution_count": 4,
   "id": "e7f31687",
   "metadata": {},
   "outputs": [],
   "source": [
    "words = ['drive', 'driving', 'driver','drives', 'drove' ,'cats','children']"
   ]
  },
  {
   "cell_type": "code",
   "execution_count": 5,
   "id": "371b6742",
   "metadata": {},
   "outputs": [
    {
     "name": "stdout",
     "output_type": "stream",
     "text": [
      "drive\n",
      "drive\n",
      "driver\n",
      "drive\n",
      "drove\n",
      "cat\n",
      "children\n"
     ]
    }
   ],
   "source": [
    "for w in words:\n",
    "    print(ps.stem(w))"
   ]
  },
  {
   "cell_type": "code",
   "execution_count": 10,
   "id": "70b9941e",
   "metadata": {},
   "outputs": [],
   "source": [
    "from snowballstemmer import TurkishStemmer"
   ]
  },
  {
   "cell_type": "code",
   "execution_count": 11,
   "id": "db3a47bd",
   "metadata": {},
   "outputs": [],
   "source": [
    "ts = TurkishStemmer()"
   ]
  },
  {
   "cell_type": "code",
   "execution_count": 16,
   "id": "0c362612",
   "metadata": {},
   "outputs": [],
   "source": [
    "words = ['emekliler', 'emekçi', 'çiçekler', 'çiçeklik', 'bilgisayar', 'bilgelik' ]"
   ]
  },
  {
   "cell_type": "code",
   "execution_count": 17,
   "id": "fb12b9b2",
   "metadata": {},
   "outputs": [
    {
     "name": "stdout",
     "output_type": "stream",
     "text": [
      "emekli\n",
      "emekçi\n",
      "çiçek\n",
      "çiçeklik\n",
      "bilgisayar\n",
      "bilgelik\n"
     ]
    }
   ],
   "source": [
    "for w in words:\n",
    "    print(ts.stemWord(w))"
   ]
  }
 ],
 "metadata": {
  "kernelspec": {
   "display_name": "Python 3 (ipykernel)",
   "language": "python",
   "name": "python3"
  },
  "language_info": {
   "codemirror_mode": {
    "name": "ipython",
    "version": 3
   },
   "file_extension": ".py",
   "mimetype": "text/x-python",
   "name": "python",
   "nbconvert_exporter": "python",
   "pygments_lexer": "ipython3",
   "version": "3.9.13"
  }
 },
 "nbformat": 4,
 "nbformat_minor": 5
}
